{
  "cells": [
    {
      "cell_type": "markdown",
      "metadata": {
        "id": "UwaDuQqCOyLJ"
      },
      "source": [
        "# **Tarea 4 - CC6205 Natural Language Processing 📚**\n",
        "\n",
        "**Integrantes: Gerard Cathalifaud Salazar, Juan Pablo Herrera Pizarro**\n",
        "\n",
        "**Fecha límite de entrega 📆:** Martes 13 de junio.\n",
        "\n",
        "**Tiempo estimado de dedicación:**"
      ]
    },
    {
      "cell_type": "markdown",
      "metadata": {
        "id": "X4lL5hGw07yP"
      },
      "source": [
        "Bienvenid@s a la cuarta tarea del curso de Natural Language Processing (NLP). \n",
        "En esta tarea estaremos tratando el problema de **tagging** (generación de secuencias de etiquetas del mismo largo que la secuencia de input), el uso de **Convolutional Neural Networks** y **Recurrent Neural Networks**, e implementaremos una red usando PyTorch. \n",
        "\n",
        "Usen $\\LaTeX$ para las fórmulas matemáticas. En la parte de programación pueden usar lo que quieran, pero la [Auxiliar 3](https://youtu.be/36WTXvg3zh0) les puede ser de *gran ayuda*.\n",
        "\n",
        "**Instrucciones:**\n",
        "- La tarea se realiza en grupos de **máximo** 2 personas. Puede ser invidivual pero no es recomendable.\n",
        "- La entrega es a través de u-cursos a más tardar el día estipulado arriba. No se aceptan atrasos.\n",
        "- El formato de entrega es este mismo Jupyter Notebook.\n",
        "- Al momento de la revisión tu código será ejecutado. Por favor verifica que tu entrega no tenga errores de compilación.\n",
        "- En el horario de auxiliar pueden realizar consultas acerca de la tarea a través del canal de Discord del curso.\n",
        "\n",
        "Si aún no han visto las clases, se recomienda visitar los links de las referencias.\n",
        "\n",
        "**Referencias:**\n",
        "\n",
        "- [Tagging, and Hidden Markov Models ](http://www.cs.columbia.edu/~mcollins/cs4705-spring2019/slides/tagging.pdf) (slides by Michael Collins), [notes](http://www.cs.columbia.edu/~mcollins/hmms-spring2013.pdf), [video 1](https://youtu.be/-ngfOZz8yK0), [video 2](https://youtu.be/Tjgb-yQOg54), [video 3](https://youtu.be/aaa5Qoi8Vco), [video 4](https://youtu.be/4pKWIDkF_6Y)       \n",
        "- [MEMMs and CRFs](https://github.com/dccuchile/CC6205/blob/master/slides/NLP-CRF.pdf): [notes 1](http://www.cs.columbia.edu/~mcollins/crf.pdf), [notes 2](http://www.cs.columbia.edu/~mcollins/fb.pdf), [video 1](https://youtu.be/qlI-4lSUDkg), [video 2](https://youtu.be/PLoLKQwkONw), [video 3](https://youtu.be/ZpUwDy6o28Y)\n",
        "- [Convolutional Neural Networks](https://github.com/dccuchile/CC6205/blob/master/slides/NLP-CNN.pdf): [video](https://youtu.be/lLZW5Fn40r8)\n",
        "- [Recurrent Neural Networks](https://github.com/dccuchile/CC6205/blob/master/slides/NLP-RNN.pdf): [video 1](https://youtu.be/BmhjUkzz3nk), [video 2](https://youtu.be/z43YFR1iIvk), [video 3](https://youtu.be/7L5JxQdwNJk)"
      ]
    },
    {
      "cell_type": "markdown",
      "metadata": {
        "id": "ANqzQ3G9WNw3"
      },
      "source": [
        "# Hidden Markov Models (HMM), Maximum Entropy Markov Models (MEMM) and Conditional Random Field(CRF) (1,5 puntos)"
      ]
    },
    {
      "cell_type": "markdown",
      "metadata": {
        "id": "bWXD3D7RYKJ-"
      },
      "source": [
        "### Pregunta 1 (1 pt)\n",
        "Para un problema de POS tagging se define el conjunto de etiquetas $S = \\{ \\text{DET}, \\text{NOUN}, \\text{VERB}, \\text{ADP} \\}$ y se tiene un Hidden Markov Model con los siguientes parámetros estimados a partir de un corpus de entrenamiento:\n",
        "\n",
        "\\begin{equation}\n",
        "\\begin{split}\n",
        "q(\\text{NOUN}| \\text{ VERB}, \\text{DET}) &= 0.3 \\\\\n",
        "q(\\text{NOUN}|\\ w, \\text{DET}) &= 0 \\qquad \\forall w \\in S, w \\neq \\text{VERB} \\\\\n",
        "q(\\text{DET}| \\text{ VERB}, \\text{NOUN}) &= 0.4 \\\\\n",
        "q(\\text{DET}|\\ w, \\text{NOUN}) &= 0 \\qquad \\forall w \\in S, w \\neq \\text{VERB} \\\\\n",
        "e(the|\\text{ DET}) &= 0.5 \\\\\n",
        "e(pasta|\\text{ NOUN}) &= 0.6\n",
        "\\end{split}\n",
        "\\end{equation}\n",
        "\n",
        "Luego para la oración: `the man is pouring sauce on the pasta`, se tiene una tabla de programación dinámica con los siguientes valores:\n",
        "\\begin{equation}\n",
        "\\begin{split}\n",
        "\\pi(7,\\text{DET},\\text{DET})&=0.1\\\\\n",
        "\\pi(7,\\text{NOUN},\\text{DET})&=0.2\\\\\n",
        "\\pi(7,\\text{VERB},\\text{DET})&=0.01\\\\\n",
        "\\pi(7,\\text{ADP},\\text{DET})&=0.5\n",
        "\\end{split}\n",
        "\\end{equation}\n",
        "\n",
        "Con esta información, calcule el valor de $\\pi(8,\\text{DET},\\text{NOUN})$. Puede dejar el resultado expresado como una fracción.\n"
      ]
    },
    {
      "cell_type": "markdown",
      "metadata": {
        "id": "5EzgysW9kGi-"
      },
      "source": [
        "**Respuesta**\n",
        "\n",
        "Se desea determinar:\n",
        "\n",
        "$\\pi (8,\\text{DET},\\text{NOUN})$\n",
        "\n",
        "Según el algoritmo de Viterbi, que se aprovecha de una definición recursiva de $\\pi$, se tiene que:\n",
        "\n",
        "$\\pi (k,u,v) = \\max_{w\\in S_{k-2}}(\\pi(k-1,w,u)\\times q(v|w,u)\\times e(x_k|v))$\n",
        "\n",
        "Entonces el cálculo se resumen en:\n",
        "\n",
        "$\\pi (8,\\text{DET},\\text{NOUN}) = \\max_{w\\in S}(\\pi(7,w,\\text{DET})\\times q(\\text{NOUN}|w,\\text{DET})\\times e(\\text{pasta}|\\text{NOUN}))$\n",
        "\n",
        "Notar que la expresión $q(\\text{NOUN}|w,\\text{DET})=0,\\forall w\\in S, w \\neq \\text{VERB}$ y $q(\\text{NOUN}|\\text{VERB},\\text{DET})=0.3$, por lo que todas las expresiones con $w$ distinto de $\\text{VERB}$ serán 0 y el máximo se obtendrá con $w=\\text{VERB}$\n",
        "\n",
        "$\\pi (8,\\text{DET},\\text{NOUN}) = \\pi(7,\\text{VERB},\\text{DET})\\times q(\\text{NOUN}|\\text{VERB},\\text{DET})\\times e(\\text{pasta}|\\text{NOUN})$\n",
        "\n",
        "$\\pi (8,\\text{DET},\\text{NOUN}) = 0.01 \\times 0.3 \\times 0.6$\n",
        "\n",
        "$\\pi (8,\\text{DET},\\text{NOUN}) = 0.0018$"
      ]
    },
    {
      "attachments": {},
      "cell_type": "markdown",
      "metadata": {
        "id": "oiwJb_vmkKLZ"
      },
      "source": [
        "### Pregunta 2 (0.5 pts)\n",
        "Comente  sobre las similitudes o diferencias entre los HMMs, MEMMs y CRFs. Para esto, responda las siguientes preguntas.\n",
        "\n",
        "#### 2.1. ¿Para qué tipo de tarea sirven? Dé dos ejemplo de este tipo de tarea y descríbalos brevemente. (0.1 pts)\n",
        "\n",
        "**Respuesta:** \n",
        "\n",
        "Estos modelos buscan resolver las tareas de taggings, es decir, dada una secuencia de entrada (en PLN es un documento) entregar una etiqueta para cada una de estas entradas (palabras), como ejemplo se tienen los clásicos problemas de:\n",
        "\n",
        "*   part-of-speech tagging (POS): Que consiste en categorizar gramaticalmente cada palabra en su función del lenguaje.\n",
        "*   Named Entity Recognition (NER): Reconocer que palabras se refieren a alguna entidad (y a qué tipo) y cuales no.\n",
        "\n",
        "\n",
        "\n",
        "#### 2.2. ¿Qué modelos usan features? ¿Qué ventajas conlleva esto? (0.1 pts)\n",
        "\n",
        "**Respuesta:** \n",
        "\n",
        "Los modelos MEMMs y CRFs presentan vectores de features. Este tiene la ventaja de realizar una representación más completa que el modelo HMMs que no lo utiliza, pues le agrega sensibilidad a partes específicas del texto, como la presencia de bigramas, la existencia de prefijos o sufijos en la palabra, o la presencia de palabras en todo el texto, reflejando mayor información para resolver problemas en PLN.\n",
        "\n",
        "#### 2.3. ¿Cómo maneja cada uno de los modelos las palabras con baja frecuencia en el set de train? (0.1 pts)\n",
        "\n",
        "**Respuesta:** \n",
        "\n",
        "Si existe baja frecuencia de palabras en el set de entrenamiento, los modelos actúan de la siguiente forma:\n",
        "\n",
        "1.   HMMs:\n",
        "Divide el vocabulario en palabras frecuentes (>5 por ej) y palabras poco frecuentes (el resto), y a este último lo mapea a un conjunto finito pequeño que los agrupe para así aumentar su frecuencia y procesarlos.\n",
        "\n",
        "2.   MEMMs y CRFs:\n",
        "Como utilizan un cálculo similar al softmax multiclase, se puede utilizar también estrategias como suavizado de Laplace, que consiste en sumar 1 a todas las frecuencias, garantizando que toda probabilidad sea distinta de 0 y que no haya indeterminaciones. También se pueden aplicar features que otorguen información adicional a las palabras poco frecuentes, como la presencia de prefijos/sufijos.\n",
        "\n",
        "#### 2.4. ¿Qué le permite a los CRF realizar decisiones globales? ¿Qué diferencia con respecto a los MEMMs permite lograr esto? ¿Por qué los HMMs tampoco son capaces de tomar decisiones globales? (0.1 pts)\n",
        "\n",
        "**Respuesta:** \n",
        "\n",
        "CRF utiliza un vector de features que toma toda la sencuencia de entrada junto a toda una secuencia de etiquetas y normaliza por el espacio de todas las secuencias posibles, generando así una cobertura global para las decisiones. Por otro lado, MEMMs los va tomando localmente por cada paso de secuencia, en la posición i-ésima. Los HMMs utilizan un supuesto de Markov, solo teniendo en cuenta las últimas 2 etiquetas anteriores, por lo que también solo considera información a nivel local.\n",
        "\n",
        "#### 2.5 Dado una secuencia de $x_1, ..., x_m$ ¿Cuántas posibles secuencias de etiquetas se pueden generar para un conjunto de etiquetas $S$ con $|S|=k$ ? ¿Analizarlas todas sería computacionalmente tratable? (0.1 pts)\n",
        "\n",
        "**Respuesta:**\n",
        "\n",
        "Para una secuencia de $m$ palabras, el conjunto de posibles secuencias de etiquetas es $S^m$ y tiene tamaño $k^m$. Esto es de orden exponencial respecto a $m$ por lo que es computacionalmente intratable analizar todas las posibles secuencias. Sin embargo, mediante supuestos apropiados y algoritmos que los aprovechen como Viterbi, es posible tener entrenamientos y decoding eficientes con este conjunto."
      ]
    },
    {
      "cell_type": "markdown",
      "metadata": {
        "id": "44ACHHZIWGF1"
      },
      "source": [
        "# Convolutional Neural Networks (0,5 puntos)"
      ]
    },
    {
      "cell_type": "markdown",
      "metadata": {
        "id": "ClRAHR95Y8aB"
      },
      "source": [
        "### Pregunta 3 (0,5 puntos)\n",
        "\n",
        "Considere la frase $w_{1..7}=$ `El agua moja y el fuego quema` $=[El, agua, moja, y, el, fuego, quema]$.\n",
        "\n",
        "La siguiente matriz de embeddings, donde la i-ésima fila corresponde al vector de embedding de la i-ésima palabra, ordenadas según aparecen en la frase. (vectores de largo 2).\n",
        "\\begin{equation}\n",
        "E = \\begin{pmatrix}\n",
        "2 & 2\\\\\n",
        "0 & -2\\\\\n",
        "0 & 1\\\\\n",
        "-2 & 1\\\\\n",
        "1 & 0\\\\\n",
        "-1 & 1\\\\\n",
        "1 & 1\n",
        "\\end{pmatrix}\n",
        "\\end{equation}\n",
        "\n",
        "Los siguientes 3 filtros\n",
        "\\begin{equation}\n",
        "U = \\begin{pmatrix}\n",
        "-1 & 1 & 0\\\\\n",
        "1 & 1 & 0\\\\\n",
        "0 & 0 & -1\\\\\n",
        "1 & -1 & -1\\\\\n",
        "-1 & -1 & 1\\\\\n",
        "1 & 0 & -1\n",
        "\\end{pmatrix}\n",
        "\\end{equation}\n",
        "\n",
        "Y la función de activación\n",
        "\\begin{equation}\n",
        "tanh = \\frac{e^{2x} - 1}{e^{2x} + 1}\n",
        "\\end{equation}\n",
        "\n",
        "Usando estos paramátros escriba los pasos para calcular la representación (vector) resultante de aplicar la operación de convolución (sin padding) + max pooling. ¿De qué tamaño sería la ventana que debemos usar?"
      ]
    },
    {
      "cell_type": "markdown",
      "metadata": {
        "id": "SlQ30Arkq0u4"
      },
      "source": [
        "**Respuesta**\n",
        "\n",
        "Para aplicar la operación de convolución, es necesario definir una serie de ventanas de tamaño $k$ que contengan los vectores de embedding de cada palabra, multiplicada por los filtros, al no tener padding, la primera ventana comenzará con la palabra `El`.\n",
        "\n",
        "Como cada palabra su vector de embedding es de dimensión $2$. Y la matriz de filtro tiene una dimensión de $6\\times 3$, por tanto, para que se pueda aplicar la matriz correctamente en cada ventana, se deberá tener ventanas de tamaño $3$, otorgándole un tamaño final de $6$ al concatenar los vectores de embedding.\n",
        "\n",
        "\\begin{equation}\n",
        "V_1 = {\\text{El, agua, moja}} = \\begin{pmatrix}\n",
        "2 & 2 & 0 & -2 & 0 & 1\n",
        "\\end{pmatrix}\\\\\n",
        "V_2 = {\\text{agua, moja, y}} = \\begin{pmatrix}\n",
        "0 & -2 & 0 & 1 & -2 & 1\n",
        "\\end{pmatrix}\\\\\n",
        "V_3 = {\\text{moja, y, el}} = \\begin{pmatrix}\n",
        "0 & 1 & -2 & 1 & 1 & 0\n",
        "\\end{pmatrix}\\\\\n",
        "V_4 = {\\text{y, el, fuego}} = \\begin{pmatrix}\n",
        "-2 & 1 & 1 & 0 & -1 & 1\n",
        "\\end{pmatrix}\\\\\n",
        "V_5 = {\\text{el, fuego, quema}} = \\begin{pmatrix}\n",
        "1 & 0 & -1 & 1 & 1 & 1\n",
        "\\end{pmatrix}\\\\\n",
        "\\end{equation}\n",
        "\n",
        "Cada una de estas ventanas, es multiplicada con el filtro y luego aplicada la función de activación `tanh`\n",
        "\n",
        "$V_1 \\times U = \\begin{pmatrix} -1 & 6 & 1 \\end{pmatrix} \\to tanh(V_1\\times U) = \\begin{pmatrix} tanh(-1) & tanh(6) & tanh(1) \\end{pmatrix} = \\begin{pmatrix} -0.76158416 & 0.99998771 & 0.76159416 \\end{pmatrix}$\n",
        "\n",
        "$tanh(V_2\\times U) = \\begin{pmatrix} 0.96402758 & -0.76159416 & -0.9993293 \\end{pmatrix}$\n",
        "\n",
        "$tanh(V_3\\times U) = \\begin{pmatrix} 0.76159416 & -0.76159416 & 0.96402758 \\end{pmatrix}$\n",
        "\n",
        "$tanh(V_4\\times U) = \\begin{pmatrix} 0.9999092 & 0. & -0.99505475 \\end{pmatrix}$\n",
        "\n",
        "$tanh(V_5\\times U) = \\begin{pmatrix} 0. & -0.76159416 & 0. \\end{pmatrix}$\n",
        "\n",
        "Finalmente, se aplica el max pooling, que consiste en tomar el valor máximo de cada dimensión formando un nuevo vector 3D, el resultado entregado:\n",
        "\n",
        "\\begin{pmatrix} 0.9999092 & 0.99998771 & 0.96402758 \\end{pmatrix}"
      ]
    },
    {
      "cell_type": "code",
      "execution_count": null,
      "metadata": {
        "colab": {
          "base_uri": "https://localhost:8080/"
        },
        "id": "NdvL6LanJByf",
        "outputId": "634227c2-c3ab-4913-f86a-dd4461521e23",
        "vscode": {
          "languageId": "python"
        }
      },
      "outputs": [
        {
          "name": "stdout",
          "output_type": "stream",
          "text": [
            "[[-0.76159416  0.99998771  0.76159416]]\n",
            "[[ 0.96402758 -0.76159416 -0.9993293 ]]\n",
            "[[ 0.76159416 -0.76159416  0.96402758]]\n",
            "[[ 0.9999092   0.         -0.99505475]]\n",
            "[[ 0.         -0.76159416  0.        ]]\n"
          ]
        }
      ],
      "source": [
        "import numpy as np\n",
        "\n",
        "U = np.array([[-1,1,0],[1,1,0],[0,0,-1],[1,-1,-1],[-1,-1,1],[1,0,-1]])\n",
        "\n",
        "v1 = np.array([[2,2,0,-2,0,1]])\n",
        "v2 = np.array([[0,-2,0,1,-2,1]])\n",
        "v3 = np.array([[0,1,-2,1,1,0]])\n",
        "v4 = np.array([[-2,1,1,0,-1,1]])\n",
        "v5 = np.array([[1,0,-1,1,1,1]])\n",
        "\n",
        "\n",
        "\n",
        "r1 = np.matmul(v1,U)\n",
        "r2 = np.matmul(v2,U)\n",
        "r3 = np.matmul(v3,U)\n",
        "r4 = np.matmul(v4,U)\n",
        "r5 = np.matmul(v5,U)\n",
        "\n",
        "print(np.tanh(r1))\n",
        "print(np.tanh(r2))\n",
        "print(np.tanh(r3))\n",
        "print(np.tanh(r4))\n",
        "print(np.tanh(r5))\n",
        "\n"
      ]
    },
    {
      "cell_type": "markdown",
      "metadata": {
        "id": "A0rCwen3WREC"
      },
      "source": [
        "# Recurrent Neural Networks (1 punto)\n"
      ]
    },
    {
      "cell_type": "markdown",
      "metadata": {
        "id": "U0et78Z4oKIq"
      },
      "source": [
        "### Pregunta 4 (0,5 puntos)\n",
        "Usando los embeddings de dos dimensiones de la pregunta anteror, la oración `el fuego quema` la podemos representar por una secuencia de vectores $(\\vec{x}_1,\\vec{x}_2,\\vec{x}_3)$, con $\\vec{x}_i \\in \\mathbb{R}^{d_x}$ y $d_x=2$.\n",
        "\n",
        "Tenemos una red recurrente *Elman* definidad como: \n",
        "\\begin{equation}\n",
        "\\begin{split}\n",
        "\\vec{s}_i &= R_{SRNN}\\left (\\vec{x}_i, \\vec{s}_{i-1}\\right ) = g \\left (\\vec{s}_{i-1}W^s + \\vec{x}_i W^x + \\vec{b}\\right ) \\\\\n",
        "\\vec{y}_i &= O_{SRNN}\\left(\\vec{s}_i\\right) = \\vec{s}_i \\\\\n",
        "\\end{split}\n",
        "\\end{equation}\n",
        "donde\n",
        "\\begin{equation}\n",
        "\\vec{s}_i, \\vec{y}_i \\in \\mathbb{R}^{d_s}, \\quad W^x \\in \\mathbb{R}^{d_x \\times d_s}, \\quad W^s \\in \\mathbb{R}^{d_s \\times d_s}, \\quad \\vec{b} \\in \\mathbb{R}^{d_s},\n",
        "\\end{equation}\n",
        "y los vectores de estado $s_i$ son de tres dimensiones, $ds= 3$.\n",
        "\n",
        "Sea\n",
        "\\begin{equation}\n",
        "\\begin{split}\n",
        "\\vec{s}_0 &= [0,0,0]\\\\\n",
        "W^x &= \\begin{pmatrix}\n",
        "0 &  0 & 1\\\\\n",
        "1 & -1 & 0\n",
        "\\end{pmatrix} \\\\\n",
        "W^s &= \\begin{pmatrix}\n",
        "1 & 0 &  1\\\\\n",
        "0 & 1 & -1\\\\\n",
        "1 & 1 &  1\n",
        "\\end{pmatrix} \\\\\n",
        "\\vec{b} &= [0, 0, 0] \\\\\n",
        "g(x) &= ReLu(x) = max(0, x)\n",
        "\\end{split}\n",
        "\\end{equation}\n",
        "\n",
        "<br>\n",
        "\n",
        "Calcule manualmente los valores de los vectores $\\vec{s}_1, \\vec{s}_2,\\vec{s}_3$ y de $\\vec{y}_1, \\vec{y}_2,\\vec{y}_3$."
      ]
    },
    {
      "cell_type": "markdown",
      "metadata": {
        "id": "fim2W8JioPhL"
      },
      "source": [
        "**Respuesta**\n",
        "\n",
        "Se calculan los vectores secuencialmente:\n",
        "\n",
        "$\\vec{s}_1 = R_{SRNN}(\\vec{x}_1,\\vec{s}_0) = g(\\vec{s}_0W^s + \\vec{x}_1W^x+\\vec{b}) = g([0,0,0]\\begin{pmatrix}1 & 0 & 1\\\\ 0 & 1 & -1\\\\ 1 & 1 & 1\\end{pmatrix} + [1, 0] \\begin{pmatrix}0 & 0 & 1\\\\ 1 & -1 & 0\\end{pmatrix} + [0,0,0]) = g([0,0,0] + [0,0,1]) = g([0,0,1]) = [0,0,1]$\n",
        "\n",
        "$\\vec{s}_2 = R_{SRNN}(\\vec{x}_2,\\vec{s}_1) = g(\\vec{s}_1W^s + \\vec{x}_2W^x+\\vec{b}) = g([0,0,1]\\begin{pmatrix}1 & 0 & 1\\\\ 0 & 1 & -1\\\\ 1 & 1 & 1\\end{pmatrix} + [-1, 1] \\begin{pmatrix}0 & 0 & 1\\\\ 1 & -1 & 0\\end{pmatrix} + [0,0,0]) = g([1,1,1] + [1,-1,-1]) = g([2,0,0]) = [2,0,0]$\n",
        "\n",
        "$\\vec{s}_3 = R_{SRNN}(\\vec{x}_3,\\vec{s}_2) = g(\\vec{s}_2W^s + \\vec{x}_3W^x+\\vec{b}) = g([2,0,0]\\begin{pmatrix}1 & 0 & 1\\\\ 0 & 1 & -1\\\\ 1 & 1 & 1\\end{pmatrix} + [1, 1] \\begin{pmatrix}0 & 0 & 1\\\\ 1 & -1 & 0\\end{pmatrix} + [0,0,0]) = g([2,0,2] + [1,-1,1]) = g([3,-1,3]) = [3,0,3]$\n",
        "\n",
        "\n",
        "Luego, simplemente $\\vec{y}_i = \\vec{s}_i, \\forall i \\in \\{1,2,3\\}$, entonces los resultados finales son:\n",
        "\n",
        "$\\vec{y}_1 = \\vec{s}_1 = [0,0,1]$\n",
        "\n",
        "$\\vec{y}_2 = \\vec{s}_2 = [2,0,0]$\n",
        "\n",
        "$\\vec{y}_3 = \\vec{s}_3 = [3,0,3]$"
      ]
    },
    {
      "cell_type": "markdown",
      "metadata": {
        "id": "W4rAT6ELxRZW"
      },
      "source": [
        "### Pregunta 5 (0.5 puntos)\n",
        "¿De qué forma las RNN y las CNN logran aprender representaciones específicas\n",
        "para la tarea objetivo? Compare la forma en que las RNN y las CNN aprenden con los modelos que usan *features* diseñadas manualmente."
      ]
    },
    {
      "cell_type": "markdown",
      "metadata": {
        "id": "b6AXbQSgA_t8"
      },
      "source": [
        "**Respuesta**\n",
        "\n",
        "Las RNN y las CNN aprenden representaciones específicas para la tarea objetivo a través de su capacidad para capturar dependencias a largo plazo en secuencias (RNN) o extraer características relevantes localmente en datos estructurados (CNN). En contraste con los modelos que utilizan características diseñadas manualmente, las RNN y las CNN aprenden automáticamente representaciones directamente de los datos, lo que les permite adaptarse mejor a la complejidad y variabilidad de los datos y obtener un mejor rendimiento en tareas desafiantes."
      ]
    },
    {
      "cell_type": "markdown",
      "metadata": {
        "id": "FRJkBpjWyHnb"
      },
      "source": [
        "# Pregunta 6: Redes Neuronales con Pytorch (3 puntos) 💬\n",
        "\n",
        "<center>\n",
        "<img src=\"https://www.anda.cl/wp-content/uploads/2021/03/0_5vNAtimPjYQr4W72.gif\" alt=\"chatbot\" width=\"400\">\n",
        "</center>"
      ]
    },
    {
      "cell_type": "markdown",
      "metadata": {
        "id": "GEla92bUymrQ"
      },
      "source": [
        "En esta sección de la tarea deberán implementar un Chatbot que sea capaz de generar una conversación *“básica”* utilizando un dataset de *Star Wars*. **El objetivo** de esta pregunta es que puedan aplicar lo aprendido sobre redes neuronales utilizando Pytorch en un ejemplo práctico.  Durante el desarrollo, se espera que puedan diseñar un bot (que tendrá por atrás un clasificador) que sea capaz de clasificar diferentes etiquetas, cosa que una vez identificada la etiqueta entregue una respuesta acorde a lo preguntado.\n",
        "\n",
        "**Aviso:** Antes de comenzar con una descripción mas profunda de esta sección, les recomendamos que visualicen y se familiaricen con el dataset entregado, de esta forma comprenderán mejor la descripción del enunciado (aquí una pequeña ayudita 🆘)."
      ]
    },
    {
      "cell_type": "code",
      "execution_count": null,
      "metadata": {
        "colab": {
          "base_uri": "https://localhost:8080/"
        },
        "id": "0eKOGlMs3Dx-",
        "outputId": "376ced9d-b74d-499a-feb1-67e9574e77ca",
        "vscode": {
          "languageId": "python"
        }
      },
      "outputs": [
        {
          "name": "stdout",
          "output_type": "stream",
          "text": [
            "Cantidad de tags:  16\n"
          ]
        }
      ],
      "source": [
        "import pandas as pd\n",
        "\n",
        "example_data = pd.read_json('https://raw.githubusercontent.com/dccuchile/CC6205/master/assignments/star_wars_chatbot.json')\n",
        "print(\"Cantidad de tags: \", example_data['intents'].shape[0])"
      ]
    },
    {
      "cell_type": "markdown",
      "metadata": {
        "id": "V-6fCE5fHkNS"
      },
      "source": [
        "A continuación, ejemplos del contenido del primer registro:"
      ]
    },
    {
      "cell_type": "code",
      "execution_count": null,
      "metadata": {
        "colab": {
          "base_uri": "https://localhost:8080/"
        },
        "id": "axsi27BpHGOx",
        "outputId": "883da5bd-7f10-4a3c-da8d-6e50357413ec",
        "vscode": {
          "languageId": "python"
        }
      },
      "outputs": [
        {
          "data": {
            "text/plain": [
              "['Hi',\n",
              " 'Hey',\n",
              " 'How are you',\n",
              " 'Is anyone there?',\n",
              " 'Hello',\n",
              " 'Good day',\n",
              " \"What's up\",\n",
              " 'Yo!',\n",
              " 'Howdy',\n",
              " 'Nice to meet you.']"
            ]
          },
          "execution_count": 4,
          "metadata": {},
          "output_type": "execute_result"
        }
      ],
      "source": [
        "example_data['intents'][0]['patterns']"
      ]
    },
    {
      "cell_type": "code",
      "execution_count": null,
      "metadata": {
        "colab": {
          "base_uri": "https://localhost:8080/"
        },
        "id": "OV0vGdwoHeg3",
        "outputId": "327fc95d-7dd8-4fa2-a410-1a2225661bcb",
        "vscode": {
          "languageId": "python"
        }
      },
      "outputs": [
        {
          "data": {
            "text/plain": [
              "['Hey',\n",
              " 'Hello, thanks for visiting.',\n",
              " 'Hi there, what can I do for you?',\n",
              " 'Hi there, how can I help?',\n",
              " 'Hello, there.',\n",
              " 'Hello Dear',\n",
              " 'Ooooo Hello, looking for someone or something?',\n",
              " 'Yes, I am here.',\n",
              " 'Listening carefully.',\n",
              " 'Ok, I am with you.']"
            ]
          },
          "execution_count": 5,
          "metadata": {},
          "output_type": "execute_result"
        }
      ],
      "source": [
        "example_data['intents'][0]['responses']"
      ]
    },
    {
      "cell_type": "code",
      "execution_count": null,
      "metadata": {
        "colab": {
          "base_uri": "https://localhost:8080/",
          "height": 36
        },
        "id": "0BnYez1oGtx3",
        "outputId": "dd0e649f-cdad-4f57-f848-384c688d38fb",
        "vscode": {
          "languageId": "python"
        }
      },
      "outputs": [
        {
          "data": {
            "application/vnd.google.colaboratory.intrinsic+json": {
              "type": "string"
            },
            "text/plain": [
              "'greeting'"
            ]
          },
          "execution_count": 6,
          "metadata": {},
          "output_type": "execute_result"
        }
      ],
      "source": [
        "example_data['intents'][0]['tag']"
      ]
    },
    {
      "cell_type": "markdown",
      "metadata": {
        "id": "v6BvAWCw3zPM"
      },
      "source": [
        "Del dataset cargado podemos notar que este viene en un formato `JSON`, por lo que sus datos están almacenados en diccionarios. Las llaves de los diccionarios no son aleatorias y estos nos sirven para identificar puntos relevantes en el desarrollo del bot. A continuación, se realiza una pequeña descripción de las llaves:\n",
        "\n",
        "- `patterns`: Almacena los patrones con los que entrenaremos el modelo 😮, en otras palabras, es el corpus de entrenamiento que contiene solo preguntas o expresiones que deberá responder el bot.\n",
        "- `responses`: Son las respuestas 🙋 relacionadas a los `patterns`, estas las utilizaremos en una etapa posterior a la clasificación, para dar una respuesta aleatoría al usuario.\n",
        "- `tag`: Son las labels con las que entrenaremos nuestro modelo 💻. \n",
        "\n",
        "En síntesis, las `keys` relevantes para el entrenamiento de nuestra red neuronal serán `patterns` (corpus) y `tag` (etiquetas)."
      ]
    },
    {
      "cell_type": "markdown",
      "metadata": {
        "id": "KlOAdMjSSzNN"
      },
      "source": [
        "#### Explicación de la tarea a realizar:"
      ]
    },
    {
      "cell_type": "markdown",
      "metadata": {
        "id": "9yGApnWVI4cO"
      },
      "source": [
        "**Explicación de la tarea a realizar**: Implemente una Class llamada `CNNClassifier` que sea capaz de entrenar un modelo de texto a través de una red neuronal Feed Forward y una arquitectura convolucional (CNN 1D) [`torch.nn.Conv1d`](https://pytorch.org/docs/stable/generated/torch.nn.Conv1d.html#conv1d) . Para el diseño de las redes tienen completa libertad, pero se le aconseja que se guíen de la última auxiliar para la construcción. Es **importantísimo** que el modelo a crear posea una capa de `Embedding` que se genere en base al entrenamiento del modelo. Creado el modelo, construya una función batch para cargar los datos de entrenamiento del modelo.\n",
        "\n",
        "Construido el modelo, compare los resultados obtenidos para una red feed forward y una cnn. Para la comprobación de sus resultados ejecute el chatbot y pruebelo, ¿qué configuración tiene mejores resultados?, ¿a qué se deberan estos resultados?\n",
        "\n",
        "Ojo que un ejemplo de prueba con el chatbot puede ser (agregue mas preguntas ud):\n",
        "\n",
        "```\n",
        "Let's chat! (type 'finish_chat' to finish the chat)\n",
        "You: hi\n",
        "GA-97: Yes, I am here.\n",
        "You: can you tell me a joke?\n",
        "GA-97: Have you tried the gluten-free Wookiee treats? No, but I heard they are a little Chewy.\n",
        "```\n",
        "\n",
        "El resto del código referido a la ejecución del chat se los entregamos, por lo que no deberían tener mayores problemas 😸 (en caso de tener problemas con su código, puede modificar cualquier parte sugerida siempre y cuando cumpla lo solicitado).\n",
        "\n",
        "**Igual [mucho texto](https://i0.wp.com/elgeneracionalpost.com/wp-content/uploads/2020/07/mucho-texto.jpg?fit=1280%2C720&ssl=1).... En resumen, ¿Qué se solicita?:**\n",
        "\n",
        "- [ ] Diseñar una red neuronal Feed Forward.\n",
        "- [ ] Diseñar un red convolucional.\n",
        "- [ ] Utilizar una capa de embeddings para generar representaciones vectoriales del corpus.\n",
        "- [ ] Crear el método forward de la clase `CNNClassifier`.\n",
        "- [ ] Crear la función BATCH.\n",
        "- [ ] Probar el modelo y comparar los resultados obtenidos con la red Feed Forward y la red CNN. Comente sus resultados de forma cualitativa, señalando con qué tipo de red obtuvo mejores resultados con el chatbot.\n",
        "\n",
        "**Nota-1:** El modelo creado debe tener la opción de entrenar a traves de una feed forward y una CNN. Esto no significa que entrenará una FF y una CN, el modelo deberá recibir un booleano que especifique que tipo de red utilizará.\n",
        "\n",
        "**Nota-2:** El dataset se descargará automáticamente en la sección `Carga de Dataset 📚`, no os preocupéis."
      ]
    },
    {
      "cell_type": "markdown",
      "metadata": {
        "id": "a4bKfAdEy3oD"
      },
      "source": [
        "#### Pasemos al Código 🦾\n",
        "\n",
        "Esqueleto propuesto (se **RECOMIENDA** que cambien **SOLO** la red neuronal y la función Batch) 🦴:"
      ]
    },
    {
      "cell_type": "markdown",
      "metadata": {
        "id": "RUwxivx2MpMV"
      },
      "source": [
        "##### Instalamos librerias necesarias e importamos 😀"
      ]
    },
    {
      "cell_type": "code",
      "execution_count": null,
      "metadata": {
        "id": "TjSZkBsk1H4f",
        "vscode": {
          "languageId": "python"
        }
      },
      "outputs": [],
      "source": [
        "# Esto toma su tiempo en ejecutarse\n",
        "%%capture\n",
        "!pip install torch==1.8.0+cu111 -f https://download.pytorch.org/whl/torch_stable.html\n",
        "!pip install torchtext==0.9.0"
      ]
    },
    {
      "cell_type": "code",
      "execution_count": null,
      "metadata": {
        "id": "RfZ6SL-Q1Kwd",
        "vscode": {
          "languageId": "python"
        }
      },
      "outputs": [],
      "source": [
        "import os\n",
        "import sys\n",
        "import json\n",
        "import torch\n",
        "import random\n",
        "from random import choice\n",
        "from torchtext.data.utils import get_tokenizer\n",
        "from torchtext.vocab import build_vocab_from_iterator\n",
        "\n",
        "import torch\n",
        "import torch.nn as nn\n",
        "from torch.utils.data import Dataset, DataLoader\n",
        "\n",
        "from torch.optim import SGD, lr_scheduler\n",
        "from torch.utils.data import DataLoader\n",
        "from torch.autograd import Variable\n",
        "\n",
        "from itertools import zip_longest\n",
        "\n",
        "import plotly.express as px\n",
        "\n",
        "import numpy as np\n",
        "import nltk\n",
        "from nltk.stem.porter import PorterStemmer"
      ]
    },
    {
      "cell_type": "markdown",
      "metadata": {
        "id": "oj-Epe7XJLrL"
      },
      "source": [
        "##### Carga de Dataset 📚"
      ]
    },
    {
      "cell_type": "code",
      "execution_count": null,
      "metadata": {
        "colab": {
          "base_uri": "https://localhost:8080/"
        },
        "id": "hvlLqYRrVN6l",
        "outputId": "e6817cb7-ac85-471a-f426-f07537f357b5",
        "vscode": {
          "languageId": "python"
        }
      },
      "outputs": [
        {
          "name": "stdout",
          "output_type": "stream",
          "text": [
            "--2022-05-23 02:24:26--  https://raw.githubusercontent.com/dccuchile/CC6104/master/scripts/star_wars_chatbot.json\n",
            "Resolving raw.githubusercontent.com (raw.githubusercontent.com)... 185.199.110.133, 185.199.108.133, 185.199.111.133, ...\n",
            "Connecting to raw.githubusercontent.com (raw.githubusercontent.com)|185.199.110.133|:443... connected.\n",
            "HTTP request sent, awaiting response... 200 OK\n",
            "Length: 14469 (14K) [text/plain]\n",
            "Saving to: ‘star_wars_chatbot.json’\n",
            "\n",
            "\rstar_wars_chatbot.j   0%[                    ]       0  --.-KB/s               \rstar_wars_chatbot.j 100%[===================>]  14.13K  --.-KB/s    in 0.001s  \n",
            "\n",
            "2022-05-23 02:24:26 (15.7 MB/s) - ‘star_wars_chatbot.json’ saved [14469/14469]\n",
            "\n"
          ]
        }
      ],
      "source": [
        "# we obtain the dataset\n",
        "!wget 'https://raw.githubusercontent.com/dccuchile/CC6205/master/assignments/star_wars_chatbot.json'"
      ]
    },
    {
      "cell_type": "code",
      "execution_count": null,
      "metadata": {
        "colab": {
          "base_uri": "https://localhost:8080/"
        },
        "id": "MbbIsFUG1TXW",
        "outputId": "7ad12487-4295-4f5f-a3b2-c9e50729f680",
        "vscode": {
          "languageId": "python"
        }
      },
      "outputs": [
        {
          "name": "stderr",
          "output_type": "stream",
          "text": [
            "97lines [00:00, 64517.52lines/s]\n"
          ]
        }
      ],
      "source": [
        "# Load the dataset using json\n",
        "with open('star_wars_chatbot.json', 'r') as f:\n",
        "    dataset = json.load(f)\n",
        "\n",
        "# Create a vocab with the dataset and get the number of classes that have\n",
        "tokenizer = get_tokenizer(\"basic_english\")\n",
        "vocab = build_vocab_from_iterator(tokenizer(x) for list_words in dataset['intents'] for x in list_words['patterns'])\n",
        "num_classes = len(dataset['intents'])\n",
        "\n",
        "# Define a list with the labels\n",
        "labels = sorted(set([tag for tag in [intents['tag'] for intents in dataset['intents']]]))\n",
        "# Define a train_list where we can find the info in the format: [(tag_0, text_0)...,(tag_n-1, text_n-1)]\n",
        "train_list = [(labels.index(intents['tag']), text) for intents in dataset['intents'] for text in intents['patterns']]"
      ]
    },
    {
      "cell_type": "markdown",
      "metadata": {
        "id": "a52SUNKPJQxi"
      },
      "source": [
        "##### Creación del modelo (2 puntos en total)"
      ]
    },
    {
      "cell_type": "code",
      "execution_count": null,
      "metadata": {
        "id": "n-vQ24tMJG5H",
        "vscode": {
          "languageId": "python"
        }
      },
      "outputs": [],
      "source": [
        "# Construya el modelo\n",
        "class CNNClassifier(nn.Module):\n",
        "    def __init__(self, vocab_size, embed_dim=32, num_classes=10, \n",
        "                 use_cnn=False, cnn_pool_channels=24, cnn_kernel_size=3):\n",
        "      super().__init__()\n",
        "      pass\n",
        "\n",
        "    def init_weights(self):\n",
        "      # Esto puede ser util para inicializar los pesos\n",
        "      pass\n",
        "\n",
        "    def forward(self, text, offsets):\n",
        "      pass"
      ]
    },
    {
      "cell_type": "markdown",
      "metadata": {
        "id": "dGN-T0JoJtmS"
      },
      "source": [
        "##### Función Batch 👷 (0,5 puntos)"
      ]
    },
    {
      "cell_type": "code",
      "execution_count": null,
      "metadata": {
        "id": "K1AZpXc7JxTa",
        "vscode": {
          "languageId": "python"
        }
      },
      "outputs": [],
      "source": [
        "# Defina su función de BATCH\n",
        "def generate_batch(batch):\n",
        "  pass\n",
        "\n",
        "  el perro labra y corre mucho-> pronombre, sujeto, verbo"
      ]
    },
    {
      "cell_type": "markdown",
      "metadata": {
        "id": "YChwpNrrNRBe"
      },
      "source": [
        "##### Entrenamiento 🥊"
      ]
    },
    {
      "cell_type": "code",
      "execution_count": null,
      "metadata": {
        "colab": {
          "base_uri": "https://localhost:8080/"
        },
        "id": "L5eRWRD_J0Km",
        "outputId": "89f923fd-8f1d-4258-ad74-4e5915c3d53a",
        "vscode": {
          "languageId": "python"
        }
      },
      "outputs": [
        {
          "name": "stdout",
          "output_type": "stream",
          "text": [
            "GPU is avaible: cuda\n",
            "train: 97 elements\n",
            "Epoch: 1000 \t iter-Loss: 0.003final loss: 0.0032\n"
          ]
        }
      ],
      "source": [
        "device = torch.device(\"cuda\" if torch.cuda.is_available() else \"cpu\")\n",
        "print(f\"GPU is avaible: {device}\")\n",
        "\n",
        "# Define the different inputs in our model\n",
        "num_epochs = 1000\n",
        "BATCH_SIZE = 16\n",
        "LR = 1e-1\n",
        "INPUT_SIZE = len(vocab)\n",
        "OUTPUT_SIZE = num_classes\n",
        "USE_CNN = False\n",
        "\n",
        "# Define model, optimizer, loss and scheduler (Q: ¿What is it?)\n",
        "model = CNNClassifier(INPUT_SIZE, num_classes=OUTPUT_SIZE, use_cnn=USE_CNN).to(device)\n",
        "optimizer = SGD(model.parameters(), lr=LR)\n",
        "criterion = nn.CrossEntropyLoss().to(device)\n",
        "scheduler = lr_scheduler.LambdaLR(optimizer, lr_lambda=[lambda epoch: .9 ** (epoch // 10)])\n",
        "\n",
        "print(f'train: {len(train_list)} elements')\n",
        "\n",
        "# We train the model using the intents\n",
        "loss_list= []\n",
        "for epoch in range(1, num_epochs):\n",
        "  train_loader = DataLoader(train_list, batch_size=BATCH_SIZE, collate_fn=generate_batch)\n",
        "  model.train()\n",
        "  total_loss = 0\n",
        "  for i, (texts, offsets, cls) in enumerate(train_loader):\n",
        "    texts = texts.to(device)\n",
        "    offsets = offsets.to(device)\n",
        "    cls = cls.to(device)\n",
        "    optimizer.zero_grad()\n",
        "    output = model(texts, offsets)\n",
        "    loss = criterion(output, cls)\n",
        "    total_loss += loss.item()\n",
        "    loss.backward()\n",
        "    optimizer.step()\n",
        "\n",
        "  loss_list.append(loss.item())\n",
        "  sys.stdout.write('\\rEpoch: {0:03d} \\t iter-Loss: {1:.3f}'.format(epoch+1, loss.item()))\n",
        "\n",
        "print(f'final loss: {loss.item():.4f}')"
      ]
    },
    {
      "cell_type": "markdown",
      "metadata": {
        "id": "9dlS4_X-L3DN"
      },
      "source": [
        "##### A probar! 🧪"
      ]
    },
    {
      "cell_type": "code",
      "execution_count": null,
      "metadata": {
        "colab": {
          "base_uri": "https://localhost:8080/",
          "height": 36
        },
        "id": "6IhhAKFXL3eH",
        "outputId": "6a28628b-d2d0-4bf0-9479-ccabbef085e6",
        "vscode": {
          "languageId": "python"
        }
      },
      "outputs": [
        {
          "data": {
            "application/vnd.google.colaboratory.intrinsic+json": {
              "type": "string"
            },
            "text/plain": [
              "'funny'"
            ]
          },
          "execution_count": 19,
          "metadata": {},
          "output_type": "execute_result"
        }
      ],
      "source": [
        "# This is working?, Try the next example!\n",
        "qText = \"'Do you know any joke?'\" # this must classify the label \"funny\"\n",
        "\n",
        "X = torch.tensor([vocab.stoi[t] for t in tokenizer(qText)]).to(device)\n",
        "\n",
        "model.eval()\n",
        "output = model(X, torch.tensor([0], dtype=torch.long).to(device))\n",
        "_, predicted = torch.max(output, dim=1)\n",
        "labels[predicted]"
      ]
    },
    {
      "cell_type": "markdown",
      "metadata": {
        "id": "udemze3zL549"
      },
      "source": [
        "Ya pero prometiste hacer un chatbot, no una simple clasificación.... "
      ]
    },
    {
      "cell_type": "markdown",
      "metadata": {
        "id": "OpSYGx2tL0tC"
      },
      "source": [
        "##### Guardamos modelo 🦺 (opcional)"
      ]
    },
    {
      "cell_type": "code",
      "execution_count": null,
      "metadata": {
        "colab": {
          "base_uri": "https://localhost:8080/"
        },
        "id": "ZBC4TyiqLzDv",
        "outputId": "0a743164-69aa-4b6e-a219-37da8ea699bd",
        "vscode": {
          "languageId": "python"
        }
      },
      "outputs": [
        {
          "name": "stdout",
          "output_type": "stream",
          "text": [
            "training complete. file saved to data.pth\n"
          ]
        }
      ],
      "source": [
        "# We save de model using pytorch (this is optional, just to learn how to do this in pytorch)\n",
        "data = {\n",
        "\"model_state\": model.state_dict(),\n",
        "\"input_size\": INPUT_SIZE,\n",
        "\"output_size\": OUTPUT_SIZE,\n",
        "\"use_cnn\": USE_CNN,\n",
        "\"labels\": labels\n",
        "        }\n",
        "\n",
        "FILE = \"data.pth\"\n",
        "torch.save(data, FILE)\n",
        "\n",
        "print(f'training complete. file saved to {FILE}')"
      ]
    },
    {
      "cell_type": "markdown",
      "metadata": {
        "id": "ZYClbTtsMCjE"
      },
      "source": [
        "##### Chatbot 💬"
      ]
    },
    {
      "cell_type": "code",
      "execution_count": null,
      "metadata": {
        "colab": {
          "base_uri": "https://localhost:8080/"
        },
        "id": "c249zUwiMBxb",
        "outputId": "03d5c400-9860-4ea1-b8c6-f711067d2727",
        "vscode": {
          "languageId": "python"
        }
      },
      "outputs": [
        {
          "name": "stdout",
          "output_type": "stream",
          "text": [
            "Let's chat! (type 'finish_chat' to finish the chat)\n",
            "You: hi\n",
            "GA-97: Yes, I am here.\n",
            "You: can you tell me a joke?\n",
            "GA-97: Have you tried the gluten-free Wookiee treats? No, but I heard they are a little Chewy.\n",
            "You: exit\n",
            "GA-97: Hello Dear\n",
            "You: finish_chat\n"
          ]
        }
      ],
      "source": [
        "device = torch.device('cuda' if torch.cuda.is_available() else 'cpu')\n",
        "\n",
        "with open('star_wars_chatbot.json', 'r') as json_data:\n",
        "    intents = json.load(json_data)\n",
        "\n",
        "FILE = \"data.pth\"\n",
        "data = torch.load(FILE)\n",
        "\n",
        "INPUT_SIZE = data[\"input_size\"]\n",
        "OUTPUT_SIZE = data[\"output_size\"]\n",
        "USE_CNN = data[\"use_cnn\"]\n",
        "labels = data['labels']\n",
        "model_state = data[\"model_state\"]\n",
        "\n",
        "model = CNNClassifier(INPUT_SIZE, num_classes=OUTPUT_SIZE, use_cnn=USE_CNN).to(device)\n",
        "model.load_state_dict(model_state)\n",
        "model.eval()\n",
        "\n",
        "# Dictionary with the answers\n",
        "responses = {key['tag']: key['responses'] for key in dataset['intents']}\n",
        "\n",
        "bot_name = \"GA-97\"\n",
        "print(\"Let's chat! (type 'finish_chat' to finish the chat)\")\n",
        "while True:\n",
        "    q_text = input(\"You: \")\n",
        "    q_text = q_text\n",
        "    if q_text == 'finish_chat':\n",
        "        break\n",
        "\n",
        "    X = torch.tensor([vocab.stoi[t] for t in tokenizer(q_text)]).to(device)\n",
        "    output = model(X, torch.tensor([0], dtype=torch.long).to(device))\n",
        "    _, predicted = torch.max(output, dim=1)\n",
        "\n",
        "    tag = labels[predicted.item()]\n",
        "\n",
        "    probs = torch.softmax(output, dim=1)\n",
        "    prob = probs[0][predicted.item()]\n",
        "    if prob.item() > 0.50:\n",
        "      print(f\"{bot_name}: {random.choice(responses[tag])}\")\n",
        "    else:\n",
        "      print(f\"{bot_name}: My model can't understand you...\")"
      ]
    },
    {
      "cell_type": "markdown",
      "metadata": {
        "id": "5Hu2QTuSURCt"
      },
      "source": [
        "#### Comente los resultados aquí (0,5 puntos)"
      ]
    },
    {
      "cell_type": "markdown",
      "metadata": {
        "id": "fdFV63WVUX32"
      },
      "source": [
        "``Comente los resultados aquí``"
      ]
    }
  ],
  "metadata": {
    "accelerator": "GPU",
    "colab": {
      "provenance": [],
      "toc_visible": true
    },
    "kernelspec": {
      "display_name": "Python 3",
      "name": "python3"
    }
  },
  "nbformat": 4,
  "nbformat_minor": 0
}
